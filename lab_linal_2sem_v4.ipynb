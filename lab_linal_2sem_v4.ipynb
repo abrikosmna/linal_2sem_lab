{
  "nbformat": 4,
  "nbformat_minor": 0,
  "metadata": {
    "colab": {
      "provenance": []
    },
    "kernelspec": {
      "name": "python3",
      "display_name": "Python 3"
    },
    "language_info": {
      "name": "python"
    }
  },
  "cells": [
    {
      "cell_type": "markdown",
      "source": [
        "# Теоретическая часть"
      ],
      "metadata": {
        "id": "Ec-NWaUoBB-p"
      }
    },
    {
      "cell_type": "markdown",
      "source": [
        "Доказательство оптимальности главных компонент в PCA\n",
        "\n",
        "Постановка задачи\n",
        "\n",
        "Пусть дан набор данных $X$ размерности $n \\times m$ (после центрирования), где $n$ – число объектов, а $m$ – число признаков. Тогда матрица ковариаций определяется как\n",
        "\n",
        "$$\n",
        "\\Sigma = \\frac{1}{n} X^\\top X.\n",
        "$$\n",
        "\n",
        "Цель PCA\n",
        "\n",
        "Наша задача — найти направление (единичный вектор) $\\mathbf{w} \\in \\mathbb{R}^m$, при проекции данных на которое наблюдается максимальная дисперсия. То есть, нужно максимизировать\n",
        "\n",
        "$$\n",
        "\\text{Var}(X\\mathbf{w}) = \\frac{1}{n}|X\\mathbf{w}|^2 = \\mathbf{w}^\\top \\Sigma \\mathbf{w},\n",
        "$$\n",
        "\n",
        "при условии, что $|\\mathbf{w}|=1$.\n",
        "\n",
        "Оптимизация задачи\n",
        "\n",
        "Мы ищем такой вектор $\\mathbf{w}$, который максимизирует дисперсию проекции данных, что сводится к задаче нахождения максимума функции $\\mathbf{w}^\\top \\Sigma \\mathbf{w}$ при условии $|\\mathbf{w}| = 1$. Это можно записать как задачу оптимизации:\n",
        "\n",
        "$$\n",
        "\\max_{\\mathbf{w}} \\quad \\mathbf{w}^\\top \\Sigma \\mathbf{w} \\quad \\text{при условии} \\quad |\\mathbf{w}| = 1.\n",
        "$$\n",
        "\n",
        "Использование спектрального разложения\n",
        "\n",
        "Так как матрица ковариаций $\\Sigma$ симметрична и полуположительно определённая, она обладает набором ортонормированных собственных векторов ${\\mathbf{v}i}{i=1}^m$ с соответствующими собственными значениями $\\lambda_i$, упорядоченными по убыванию:\n",
        "\n",
        "$$\n",
        "\\lambda_1 \\ge \\lambda_2 \\ge \\dots \\ge \\lambda_m \\ge 0.\n",
        "$$\n",
        "\n",
        "В разложении спектрального типа можно записать:\n",
        "\n",
        "$$\n",
        "\\Sigma = \\sum_{i=1}^m \\lambda_i \\mathbf{v}_i \\mathbf{v}_i^\\top.\n",
        "$$\n",
        "\n",
        "Любой единичный вектор $\\mathbf{w}$ можно выразить через собственные векторы:\n",
        "\n",
        "$$\n",
        "\\mathbf{w} = \\sum_{i=1}^m a_i \\mathbf{v}i, \\quad \\text{где} \\quad \\sum{i=1}^m a_i^2 = 1.\n",
        "$$\n",
        "\n",
        "Максимизация дисперсии\n",
        "\n",
        "Теперь подставим это представление для $\\mathbf{w}$ в выражение для дисперсии:\n",
        "\n",
        "$$\n",
        "\\mathbf{w}^\\top \\Sigma \\mathbf{w} = \\sum_{i=1}^m \\lambda_i a_i^2.\n",
        "$$\n",
        "\n",
        "Так как $\\sum_{i=1}^m a_i^2 = 1$, для максимизации $\\mathbf{w}^\\top \\Sigma \\mathbf{w}$ нужно, чтобы $a_i = 1$ для того индекса $i$, для которого $\\lambda_i$ максимально, а для всех остальных $j$ — $a_j = 0$. Таким образом, оптимальное решение будет найдено для собственного вектора, соответствующего максимальному собственному значению $\\lambda_{\\max}$:\n",
        "\n",
        "$$\n",
        "\\mathbf{w} = \\mathbf{v}_{\\max}.\n",
        "$$\n",
        "\n",
        "Последующие главные компоненты\n",
        "\n",
        "После нахождения первого главного направления $\\mathbf{v}_1$ (с соответствующим $\\lambda_1$) задача поиска второй главной компоненты сводится к поиску такого направления, которое максимизирует дисперсию при условии, что оно ортогонально первому главному компоненту. Таким образом, решение для второй компоненты будет найдено с использованием второго по величине собственного значения $\\lambda_2$ и соответствующего собственного вектора $\\mathbf{v}_2$.\n",
        "\n",
        "Вывод\n",
        "\n",
        "Главные компоненты в методе PCA совпадают с собственными векторами матрицы ковариаций, поскольку они максимизируют дисперсию данных при проекции. Это и является основой метода главных компонент:\n",
        "\t•\tПервый главный вектор $\\mathbf{v}_1$ соответствует наибольшему собственному значению $\\lambda_1$ и максимизирует вариативность данных.\n",
        "\t•\tПоследующие главные компоненты определяются как собственные векторы, соответствующие оставшимся собственным значениям в порядке убывания, с учетом ортогональности к ранее выбранным направлениям.\n",
        "\n",
        "Таким образом, оптимальные направления главных компонент совпадают с собственными векторами ковариационной матрицы."
      ],
      "metadata": {
        "id": "3E1n7IXiFLG6"
      }
    },
    {
      "cell_type": "markdown",
      "source": [
        "# Практическая часть"
      ],
      "metadata": {
        "id": "uo1w6LWmA23p"
      }
    },
    {
      "cell_type": "markdown",
      "source": [
        "## Дополнительный класс"
      ],
      "metadata": {
        "id": "bxBX4LXxBGWQ"
      }
    },
    {
      "cell_type": "code",
      "source": [
        "from typing import List, Tuple\n",
        "import math"
      ],
      "metadata": {
        "id": "PuCn75Cc2hAM"
      },
      "execution_count": 422,
      "outputs": []
    },
    {
      "cell_type": "code",
      "source": [
        "from matplotlib.figure import Figure\n",
        "import matplotlib.pyplot as plt\n",
        "import csv"
      ],
      "metadata": {
        "id": "MdOcWZQ0z96a"
      },
      "execution_count": 423,
      "outputs": []
    },
    {
      "cell_type": "code",
      "source": [
        "class Matrix:\n",
        "    def __init__(self, data):\n",
        "        if not all(len(row) == len(data[0]) for row in data):\n",
        "            raise ValueError(\"Все строки матрицы должны иметь одинаковую длину\")\n",
        "        self.data = data\n",
        "        self.rows = len(data)\n",
        "        self.cols = len(data[0]) if self.rows > 0 else 0\n",
        "\n",
        "    def __add__(self, other):\n",
        "        \"\"\"Сложение матриц\"\"\"\n",
        "        if self.rows != other.rows or self.cols != other.cols:\n",
        "            raise ValueError(\"Матрицы должны быть одного размера\")\n",
        "        result = [\n",
        "            [self.data[i][j] + other.data[i][j] for j in range(self.cols)\n",
        "            ] for i in range(self.rows)\n",
        "        ]\n",
        "        return Matrix(result)\n",
        "\n",
        "    def __sub__(self, other):\n",
        "        \"\"\"Вычитание матриц\"\"\"\n",
        "        if self.rows != other.rows or self.cols != other.cols:\n",
        "            raise ValueError(\"Матрицы должны быть одного размера\")\n",
        "        result = [\n",
        "            [self.data[i][j] - other.data[i][j] for j in range(self.cols)\n",
        "            ] for i in range(self.rows)\n",
        "        ]\n",
        "        return Matrix(result)\n",
        "\n",
        "    def __mul__(self, scalar):\n",
        "        \"\"\"Умножение матрицы на скаляр\"\"\"\n",
        "        if not isinstance(scalar, (int, float)):\n",
        "            raise TypeError(\"Можно умножать только на скаляр (int/float)\")\n",
        "        result = [\n",
        "            [self.data[i][j] * scalar for j in range(self.cols)] for i in range(self.rows)\n",
        "        ]\n",
        "        return Matrix(result)\n",
        "\n",
        "    def __matmul__(self, other):\n",
        "        \"\"\"Умножение матриц (оператор @)\"\"\"\n",
        "        if self.cols != other.rows:\n",
        "            raise ValueError(\n",
        "                \"Количество столбцов первой матрицы должно совпадать с количеством строк второй\"\n",
        "            )\n",
        "        result = [\n",
        "            [\n",
        "                sum(self.data[i][k] * other.data[k][j] for k in range(self.cols))\n",
        "                for j in range(other.cols)\n",
        "            ] for i in range(self.rows)\n",
        "        ]\n",
        "        return Matrix(result)\n",
        "\n",
        "    def transpose(self):\n",
        "        \"\"\"Транспонированная матрица\"\"\"\n",
        "        return Matrix([list(row) for row in zip(*self.data)])\n",
        "\n",
        "    def minor(self, i, j):\n",
        "        \"\"\"Минор матрицы (исключение строки i и столбца j)\"\"\"\n",
        "        if self.rows != self.cols:\n",
        "            raise ValueError(\"Минор определен только для квадратных матриц\")\n",
        "        new_data = [\n",
        "            row[:j] + row[j + 1:] for row_idx, row in enumerate(self.data) if row_idx != i\n",
        "        ]\n",
        "        return Matrix(new_data)\n",
        "\n",
        "    def determinant_gauss(self) -> float:\n",
        "        \"\"\"Вычисляет определителя методом Гаусса\"\"\"\n",
        "        n = self.rows\n",
        "        # Копируем data, чтобы не портить текущую матрицу\n",
        "        mat = [row[:] for row in self.data]\n",
        "\n",
        "        det = 1.0\n",
        "        for i in range(n):\n",
        "            # Ищем максимальный по модулю элемент в столбце i, строках i..n\n",
        "            pivot = i\n",
        "            max_val = abs(mat[i][i])\n",
        "            for r in range(i + 1, n):\n",
        "                if abs(mat[r][i]) > max_val:\n",
        "                    max_val = abs(mat[r][i])\n",
        "                    pivot = r\n",
        "            if max_val < 1e-15:\n",
        "                # Считаем, что det=0\n",
        "                return 0.0\n",
        "\n",
        "            if pivot != i:\n",
        "                mat[i], mat[pivot] = mat[pivot], mat[i]\n",
        "                det = -det  # перестановка строк меняет знак определителя\n",
        "\n",
        "            # Опорный элемент mat[i][i]\n",
        "            pivot_val = mat[i][i]\n",
        "            det *= pivot_val\n",
        "\n",
        "            # Приводим ниже идущие строки\n",
        "            for r in range(i + 1, n):\n",
        "                factor = mat[r][i] / pivot_val\n",
        "                for c in range(i, n):\n",
        "                    mat[r][c] -= mat[i][c] * factor\n",
        "\n",
        "        return det\n",
        "\n",
        "    def determinant(self):\n",
        "        return self.determinant_gauss()\n",
        "\n",
        "    def trace(self):\n",
        "        \"\"\"След матрицы (сумма диагональных элементов)\"\"\"\n",
        "        return sum(self[i, i] for i in range(self.rows))\n",
        "\n",
        "\n",
        "    def __str__(self):\n",
        "        return \"\\n\".join([\" \".join(map(str, row)) for row in self.data])\n",
        "\n",
        "    def __getitem__(self, indices):\n",
        "        if isinstance(indices, tuple):\n",
        "            i, j = indices\n",
        "        else:\n",
        "            i = indices\n",
        "\n",
        "        return self.data[i][j] if isinstance(indices, tuple) else self.data[i]\n",
        "\n",
        "    def row(self, i):\n",
        "        \"\"\"Возвращает i-ю строку как список\"\"\"\n",
        "        return self.data[i]\n",
        "\n",
        "    def col(self, j):\n",
        "        \"\"\"Возвращает j-й столбец как список\"\"\"\n",
        "        return [row[j] for row in self.data]\n",
        "\n",
        "    def copy(self):\n",
        "        \"\"\"Копия матрицы\"\"\"\n",
        "        return Matrix([row.copy() for row in self.data])\n",
        "\n",
        "    def set(self, i: int, j: int, value: float) -> None:\n",
        "        \"\"\"Устанавливает элемент матрицы (i, j) в значение value\"\"\"\n",
        "        self.data[i][j] = value\n",
        "\n",
        "    def swap_rows(self, r1: int, r2: int) -> None:\n",
        "        \"\"\"Меняет местами строки r1 и r2 в матрице\"\"\"\n",
        "        self.data[r1], self.data[r2] = self.data[r2], self.data[r1]\n"
      ],
      "metadata": {
        "id": "vmkv-1e_uv-W"
      },
      "execution_count": 424,
      "outputs": []
    },
    {
      "cell_type": "markdown",
      "source": [
        "## 1. Easy level"
      ],
      "metadata": {
        "id": "YB9uimG5A30r"
      }
    },
    {
      "cell_type": "markdown",
      "source": [
        "### 1.1 Задание: Реализовать метод Гаусса для решения СЛАУ:"
      ],
      "metadata": {
        "id": "duK3W2oqBMim"
      }
    },
    {
      "cell_type": "markdown",
      "source": [
        "Метод Гаусса — это метод для решения систем линейных алгебраических уравнений (СЛАУ), который основывается на преобразовании системы к верхнетреугольной матрице с помощью элементарных операций над строками.\n",
        "\n",
        "**1. Прямой ход:**\n",
        "- На каждом шаге выбираем ведущий элемент (пивот) в столбце.\n",
        "- Меняем строки местами, если необходимо, чтобы элемент с максимальным абсолютным значением оказался на ведущей позиции.\n",
        "- Приводим все элементы ниже ведущего элемента к нулю с помощью вычитания строк, умноженных на соответствующие коэффициенты.\n",
        "\n",
        "**2. Проверка на несовместность:**\n",
        "- Если после прямого хода получается строка вида [0, 0, ..., 0 | d], где d ≠ 0, система не имеет решений.\n",
        "\n",
        "**3. Обратный ход:**\n",
        "- Начинаем с последней строки и вычисляем значение переменных, подставляя уже найденные решения в предыдущие уравнения.\n",
        "\n",
        "**4. Специфичные случаи:**\n",
        "- **Несовместные системы**: Строка вида [0, 0, ..., 0 | d] где d ≠ 0 означает отсутствие решений.\n",
        "- **Бесконечно много решений**: Строка вида [0, 0, ..., 0 | 0] указывает на бесконечность решений.\n",
        "\n",
        "Алгоритм решения СЛАУ методом Гаусса имеет временную сложность ( O(n^3) ), где ( n ) — количество переменных."
      ],
      "metadata": {
        "id": "qlLMqUZWFeVy"
      }
    },
    {
      "cell_type": "code",
      "execution_count": 425,
      "metadata": {
        "id": "thurfilLpR1f"
      },
      "outputs": [],
      "source": [
        "def gauss_solver(A: 'Matrix', b: 'Matrix') -> List['Matrix']:\n",
        "    \"\"\"\n",
        "    Вход:\n",
        "      A: матрица коэффициентов (n×n)\n",
        "      b: вектор правых частей (n×1)\n",
        "\n",
        "    Выход:\n",
        "      list[Matrix]: список базисных векторов решения системы\n",
        "\n",
        "    Raises:\n",
        "      ValueError: если система несовместна\n",
        "    \"\"\"\n",
        "    n = A.rows\n",
        "\n",
        "    augmented = []\n",
        "    for i in range(n):\n",
        "        row_i = []\n",
        "        for j in range(n):\n",
        "            row_i.append(A[i, j])\n",
        "        row_i.append(b[i, 0])\n",
        "        augmented.append(row_i)\n",
        "\n",
        "    # Прямой ход Гаусса\n",
        "    for col in range(n):\n",
        "        pivot_row = max(range(col, n), key=lambda r: abs(augmented[r][col]))\n",
        "        pivot_val = augmented[pivot_row][col]\n",
        "\n",
        "        if abs(pivot_val) < 1e-10:\n",
        "            continue\n",
        "\n",
        "        if pivot_row != col:\n",
        "            augmented[col], augmented[pivot_row] = augmented[pivot_row], augmented[col]\n",
        "            pivot_val = augmented[col][col]\n",
        "\n",
        "        # Нормируем ведущую строку\n",
        "        for c in range(col, n + 1):\n",
        "            augmented[col][c] /= pivot_val\n",
        "\n",
        "        # Обнуляем столбец ниже pivot\n",
        "        for r in range(col + 1, n):\n",
        "            factor = augmented[r][col]\n",
        "            if abs(factor) > 1e-12:\n",
        "                for c in range(col, n + 1):\n",
        "                    augmented[r][c] -= factor * augmented[col][c]\n",
        "\n",
        "    # Проверка на несовместность\n",
        "    # Если строка вида (0,0,...,0 | d), d != 0 => нет решений\n",
        "    for row in augmented:\n",
        "        left_part = row[:-1]\n",
        "        right_part = row[-1]\n",
        "        if all(abs(x) < 1e-10 for x in left_part) and abs(right_part) > 1e-10:\n",
        "            raise ValueError(\"Система несовместна\")\n",
        "\n",
        "    # Обратный ход\n",
        "    solution = [0.0] * n\n",
        "    for i in range(n-1, -1, -1):\n",
        "        pivot_coeff = augmented[i][i]\n",
        "        if abs(pivot_coeff) < 1e-10:\n",
        "            continue\n",
        "\n",
        "        val = augmented[i][-1]\n",
        "        for j in range(i+1, n):\n",
        "            val -= augmented[i][j] * solution[j]\n",
        "        solution[i] = val / pivot_coeff\n",
        "\n",
        "    # Превращаем list solution -> Matrix (n×1)\n",
        "    sol_matrix = Matrix([[x] for x in solution])\n",
        "    return [sol_matrix]"
      ]
    },
    {
      "cell_type": "markdown",
      "source": [
        "### 1.2. Задание: Реализовать функцию центрирования данных:"
      ],
      "metadata": {
        "id": "JZuAJbiHI4uK"
      }
    },
    {
      "cell_type": "markdown",
      "source": [
        "$$\n",
        "X_{\\text{centered}} = X - \\text{mean}(X).\n",
        "$$"
      ],
      "metadata": {
        "id": "QmU4H46UV9ZF"
      }
    },
    {
      "cell_type": "code",
      "source": [
        "def center_data(X: 'Matrix') -> 'Matrix':\n",
        "    \"\"\"\n",
        "    Вход: матрица данных X (n×m)\n",
        "    Выход: центрированная матрица X_centered (n×m)\n",
        "    \"\"\"\n",
        "    n, m = X.rows, X.cols\n",
        "    means = [sum(X.col(j)) / n for j in range(m)]\n",
        "    mean_matrix = Matrix([[means[j] for _ in range(n)] for j in range(m)]).transpose()\n",
        "    return X - mean_matrix"
      ],
      "metadata": {
        "id": "oHC8rN4fqxgM"
      },
      "execution_count": 426,
      "outputs": []
    },
    {
      "cell_type": "markdown",
      "source": [
        "### 1.3. Задание: Вычислить матрицу ковариаций:"
      ],
      "metadata": {
        "id": "DPZya7QKKU1p"
      }
    },
    {
      "cell_type": "markdown",
      "source": [
        "$$\n",
        "C = \\frac{1}{n-1} X^\\top X.\n",
        "$$"
      ],
      "metadata": {
        "id": "ndcfwUVzWEnb"
      }
    },
    {
      "cell_type": "code",
      "source": [
        "def covariance_matrix(X_centered: 'Matrix') -> 'Matrix':\n",
        "    \"\"\"\n",
        "    Вход: центрированная матрица X_centered (n×m)\n",
        "    Выход: матрица ковариаций C (m×m)\n",
        "    \"\"\"\n",
        "    n = X_centered.rows\n",
        "    XT = X_centered.transpose()\n",
        "    C = (XT @ X_centered) * (1 / (n - 1))\n",
        "    return C"
      ],
      "metadata": {
        "id": "nzlXCdKG2Ol7"
      },
      "execution_count": 427,
      "outputs": []
    },
    {
      "cell_type": "markdown",
      "source": [
        "## 2. Normal Level"
      ],
      "metadata": {
        "id": "ugDvXaWVKbbw"
      }
    },
    {
      "cell_type": "markdown",
      "source": [
        "### 2.1 Задание: Найти собственные значения матрицы методом бисекции"
      ],
      "metadata": {
        "id": "gWj6PXbnKpsp"
      }
    },
    {
      "cell_type": "markdown",
      "source": [
        "\n",
        "Метод бисекции используется для нахождения корней уравнения det(C - λI) = 0., где C — матрица, λ — собственные значения, а I — единичная матрица. Для нахождения всех собственных значений матрицы, выполняются следующие шаги:\n",
        "\n",
        "1. **Оценка интервала методом Гершгорина**:\n",
        "   Метод Гершгорина дает интервал [a, b], на котором находятся все собственные значения матрицы. Радиус окружности для строки i вычисляется как сумма абсолютных значений всех элементов в строке, не включая диагональный элемент:\n",
        "   $$\n",
        "   R_i = \\sum_{j \\neq i} |c_{ij}|\n",
        "   $$\n",
        "   Собственные значения лежат внутри интервала c_{ii} - R_{i}, c_{ii} + R_{i}.\n",
        "\n",
        "2. **Поиск корней методом бисекции**:\n",
        "   После получения интервала \\( [a, b] \\), метод бисекции используется для нахождения корней функции f(λ) = det(C - λI). Метод бисекции заключается в последовательном делении интервала пополам, пока не будет достигнута нужная точность.\n",
        "\n",
        "3. **Вычисление определителя**:\n",
        "   Для каждой итерации метода бисекции вычисляется определитель матрицы C - λI. Для этого используются стандартные численные методы, такие как разложение по строкам.\n",
        "\n",
        "Метод бисекции гарантированно находит корни, если функция непрерывна и меняет знак на интервале. Однако вычисление определителя может быть дорогим для больших матриц."
      ],
      "metadata": {
        "id": "o8WYmok3L5XK"
      }
    },
    {
      "cell_type": "code",
      "source": [
        "def bisection_method(func, a, b, epsilon):\n",
        "    \"\"\"\n",
        "    Метод бисекции для поиска одного корня на отрезке [a, b]\n",
        "    Возвращает приближение корня или None, если func(a)*func(b) > 0\n",
        "    \"\"\"\n",
        "    fa = func(a)\n",
        "    fb = func(b)\n",
        "    if fa * fb > 0:\n",
        "        return None\n",
        "\n",
        "    while (b - a) / 2 > epsilon:\n",
        "        c = (a + b) / 2\n",
        "        fc = func(c)\n",
        "\n",
        "        if abs(fc) < 1e-14:\n",
        "            return c\n",
        "\n",
        "        if fa * fc < 0:\n",
        "            # корень лежит в [a, c]\n",
        "            b = c\n",
        "            fb = fc\n",
        "        else:\n",
        "            # корень лежит в (c, b]\n",
        "            a = c\n",
        "            fa = fc\n",
        "\n",
        "    return (a + b)/2\n",
        "\n",
        "def find_all_roots(func, a, b, epsilon, tol=1e-5, step=0.1):\n",
        "    \"\"\"\n",
        "    Ищет все корни func(x)=0 на [a, b], разбивая интервал с шагом step\n",
        "    На каждом подотрезке, где есть смена знака, уточняет корень методом бисекции\n",
        "    Параметры:\n",
        "        func    - функция f(x)\n",
        "        a, b    - границы интервала\n",
        "        epsilon - точность для метода бисекции\n",
        "        tol     - допуск при сравнении найденных корней\n",
        "        step    - шаг разбиения\n",
        "    Возвращает список всех найденных корней по возрастанию\n",
        "    \"\"\"\n",
        "    roots = []\n",
        "\n",
        "    x_points = []\n",
        "    x_val = a\n",
        "    while x_val < b:\n",
        "        x_points.append(x_val)\n",
        "        x_val += step\n",
        "    if x_points[-1] < b:\n",
        "        x_points.append(b)\n",
        "\n",
        "    # Ищем смену знака на смежных подотрезках\n",
        "    for i in range(len(x_points) - 1):\n",
        "        x0, x1 = x_points[i], x_points[i + 1]\n",
        "        f0, f1 = func(x0), func(x1)\n",
        "        if f0 * f1 <= 0:\n",
        "            # Уточняем корень методом бисекции\n",
        "            root = bisection_method(func, x0, x1, epsilon)\n",
        "            if root is not None:\n",
        "                # Проверяем, нет ли уже близкого корня\n",
        "                if not any(abs(root - r) <= tol for r in roots):\n",
        "                    roots.append(root)\n",
        "\n",
        "    return sorted(roots)"
      ],
      "metadata": {
        "id": "9hXb0Vwt2Nl2"
      },
      "execution_count": 428,
      "outputs": []
    },
    {
      "cell_type": "code",
      "source": [
        "def direct_det_func(C, x):\n",
        "    \"\"\"\n",
        "    Вычисляет det(C - xI) для квадратной матрицы C размера n×n\n",
        "    Возвращает float.\n",
        "    \"\"\"\n",
        "    n = C.rows\n",
        "\n",
        "    new_data = []\n",
        "    for i in range(n):\n",
        "        row = []\n",
        "        for j in range(n):\n",
        "            val = C[i, j]\n",
        "            if i == j:\n",
        "                val -= x\n",
        "            row.append(val)\n",
        "        new_data.append(row)\n",
        "\n",
        "    M = Matrix(new_data)\n",
        "    return M.determinant()"
      ],
      "metadata": {
        "id": "tfA1ZYzjrwty"
      },
      "execution_count": 429,
      "outputs": []
    },
    {
      "cell_type": "code",
      "source": [
        "def gershgorin_interval(C, eps=1e-6):\n",
        "    \"\"\"\n",
        "    Возвращает (a, b), оценку интервала, где лежат все собственные значения C\n",
        "    \"\"\"\n",
        "    n = C.rows\n",
        "    left_candidates = []\n",
        "    right_candidates = []\n",
        "    for i in range(n):\n",
        "        diag_val = C[i, i]\n",
        "        row_sum = 0.0\n",
        "        for j in range(n):\n",
        "            if j != i:\n",
        "                row_sum += abs(C[i, j])\n",
        "        left_candidates.append(diag_val - row_sum)\n",
        "        right_candidates.append(diag_val + row_sum)\n",
        "    a = min(left_candidates) - eps\n",
        "    b = max(right_candidates) + eps\n",
        "    return a, b"
      ],
      "metadata": {
        "id": "HM7XfGh1r2lU"
      },
      "execution_count": 430,
      "outputs": []
    },
    {
      "cell_type": "code",
      "source": [
        "def find_eigenvalues(C: 'Matrix', tol: float = 1e-6) -> List[float]:\n",
        "    \"\"\"\n",
        "    Вход:\n",
        "      C: матрица ковариаций (m×m)\n",
        "      tol: допустимая погрешность\n",
        "    Выход: список вещественных собственных значений\n",
        "\n",
        "    Находит все собственные значения матрицы C методом:\n",
        "     1. Получаем оценку [a, b] по Гершгорину\n",
        "     2. Определяем функцию f(x) = det(C - xI)\n",
        "     3. Находим все корни f(x)=0 на [a, b], используя find_all_roots\n",
        "    \"\"\"\n",
        "    a, b = gershgorin_interval(C, eps=1e-6)\n",
        "\n",
        "    def fdet(x):\n",
        "        return direct_det_func(C, x)\n",
        "\n",
        "    roots = find_all_roots(fdet, a, b, epsilon=1e-6, step=0.001, tol=tol)\n",
        "    return roots"
      ],
      "metadata": {
        "id": "o3bkhZxr2H-J"
      },
      "execution_count": 431,
      "outputs": []
    },
    {
      "cell_type": "markdown",
      "source": [
        "### 2.2. Задание: Найти собственные векторы матрицы"
      ],
      "metadata": {
        "id": "mWTI1peqNqgg"
      }
    },
    {
      "cell_type": "markdown",
      "source": [
        "$$\n",
        "(C - \\lambda I)v = 0.\n",
        "$$"
      ],
      "metadata": {
        "id": "skaYqiQsWNDb"
      }
    },
    {
      "cell_type": "code",
      "source": [
        "import random\n",
        "import math\n",
        "\n",
        "def identity_matrix(n: int) -> Matrix:\n",
        "    \"\"\"Единичная матрица n×n\"\"\"\n",
        "    return Matrix([[1.0 if i == j else 0.0 for j in range(n)] for i in range(n)])\n",
        "\n",
        "def inverse_iteration(\n",
        "    C: Matrix,\n",
        "    lam: float,\n",
        "    max_iter: int = 100,\n",
        "    tol: float = 1e-8\n",
        ") -> Matrix:\n",
        "    \"\"\"\n",
        "    Находит собственный вектор, соответствующий λ, решая\n",
        "      (C - λI) y_{k+1} = x_k\n",
        "    и нормируя y, пока не сойдётся\n",
        "    \"\"\"\n",
        "    n = C.rows\n",
        "    I = identity_matrix(n)\n",
        "    A = C - (I * lam)\n",
        "\n",
        "    # стартовый случайный вектор x (n×1)\n",
        "    x = Matrix([[random.random()] for _ in range(n)])\n",
        "\n",
        "    for _ in range(max_iter):\n",
        "        # решаем A y = x через ваш solve_system (gauss_solver внутри)\n",
        "        y_list = solve_system(A, x)  # возвращает list[float] длины n\n",
        "        # превращаем в Matrix-столбец\n",
        "        y = Matrix([[v] for v in y_list])\n",
        "\n",
        "        # нормировка y\n",
        "        norm = math.sqrt(sum(y[i,0]**2 for i in range(n)))\n",
        "        if norm < tol:\n",
        "            break\n",
        "        y = y * (1.0 / norm)\n",
        "\n",
        "        # проверяем изменение\n",
        "        delta = max(abs(y[i,0] - x[i,0]) for i in range(n))\n",
        "        x = y\n",
        "        if delta < tol:\n",
        "            break\n",
        "\n",
        "    return x  # это приближённый собственный вектор λ\n",
        "\n",
        "def find_eigenvectors(C: Matrix, eigenvalues: List[float]) -> List[Matrix]:\n",
        "    \"\"\"\n",
        "    Для каждого λ из eigenvalues запускаем inverse_iteration\n",
        "    и возвращаем список столбцовых Matrix-векторов\n",
        "    \"\"\"\n",
        "    return [inverse_iteration(C, lam) for lam in eigenvalues]"
      ],
      "metadata": {
        "id": "8J10IKll2IsV"
      },
      "execution_count": 432,
      "outputs": []
    },
    {
      "cell_type": "markdown",
      "source": [
        "### 2.3. Задание : Вычислить долю объясненной дисперсии:"
      ],
      "metadata": {
        "id": "HgK1H19rNxBr"
      }
    },
    {
      "cell_type": "markdown",
      "source": [
        "$$\n",
        "\\gamma = \\frac{\\sum_{i=1}^{k} \\lambda_i}{\\sum_{i=1}^{m} \\lambda_i}.\n",
        "$$"
      ],
      "metadata": {
        "id": "E_--EbfqWS61"
      }
    },
    {
      "cell_type": "code",
      "source": [
        "def explained_variance_ratio(eigenvalues: List[float], k: int) -> float:\n",
        "    \"\"\"\n",
        "    Вход:\n",
        "      eigenvalues: список собственных значений\n",
        "      k: число компонент\n",
        "    Выход: доля объясненной дисперсии\n",
        "    \"\"\"\n",
        "    m = len(eigenvalues)\n",
        "    if m == 0:\n",
        "        raise ValueError(\"Список собственных значений пуст\")\n",
        "    if k <= 0 or k > m:\n",
        "        raise ValueError(f\"Некорректное k={k} для списка из {m} собственных значений\")\n",
        "\n",
        "    total = sum(eigenvalues)\n",
        "    if abs(total) < 1e-15:\n",
        "        raise ValueError(\"Сумма собственных значений равна нулю (невозможно разделить)\")\n",
        "\n",
        "    sorted_eigs = sorted(eigenvalues, reverse=True)\n",
        "\n",
        "    explained = sum(sorted_eigs[:k])\n",
        "    return explained / total"
      ],
      "metadata": {
        "id": "QmbeVl0r6hbo"
      },
      "execution_count": 433,
      "outputs": []
    },
    {
      "cell_type": "markdown",
      "source": [
        "## 3. Hard Level + 4. Expert level"
      ],
      "metadata": {
        "id": "8AlLUnM8RAnM"
      }
    },
    {
      "cell_type": "markdown",
      "source": [
        "### 4.1 Задание (Expert): Добавить автоматический выбор числа главных компонент"
      ],
      "metadata": {
        "id": "wtEEDoaFSO_r"
      }
    },
    {
      "cell_type": "markdown",
      "source": [
        "$$\n",
        "k = \\min \\left\\{ k : \\frac{\\sum_{i=1}^{k} \\lambda_i}{\\sum_{i=1}^{m} \\lambda_i} \\ge \\text{threshold} \\right\\}\n",
        "$$"
      ],
      "metadata": {
        "id": "2Va4PvNhWefJ"
      }
    },
    {
      "cell_type": "code",
      "source": [
        "def auto_select_k(eigenvalues: List[float], threshold: float = 0.95) -> int:\n",
        "    \"\"\"\n",
        "    Вход:\n",
        "      eigenvalues: список собственных значений\n",
        "      threshold: порог объяснённой дисперсии\n",
        "    Выход: оптимальное число главных компонент k\n",
        "    \"\"\"\n",
        "    m = len(eigenvalues)\n",
        "    if m == 0:\n",
        "        raise ValueError(\"Список eigenvalues пуст.\")\n",
        "\n",
        "    total = sum(eigenvalues)\n",
        "    if abs(total) < 1e-14:\n",
        "        raise ValueError(\"Сумма собственных значений близка к 0, нельзя разделить\")\n",
        "\n",
        "    cumulative = 0.0\n",
        "    for i, val in enumerate(eigenvalues, start=1):\n",
        "        cumulative += val\n",
        "        ratio = cumulative / total\n",
        "        if ratio >= threshold:\n",
        "            return i\n",
        "\n",
        "    # Если даже все компоненты не достигают порога, то берём k = m\n",
        "    return m"
      ],
      "metadata": {
        "id": "5ocSr_XK_LvQ"
      },
      "execution_count": 434,
      "outputs": []
    },
    {
      "cell_type": "markdown",
      "source": [
        "### 4.2 Задание (Expert): Обработать пропущенные значения в данных"
      ],
      "metadata": {
        "id": "fwB18BbaLG6Q"
      }
    },
    {
      "cell_type": "markdown",
      "source": [
        "$$\n",
        "X_{\\text{filled}} = \\begin{cases}\n",
        "X_{ij}, & \\text{если } X_{ij} \\neq \\text{NaN}, \\\\\n",
        "\\text{mean}(X_j), & \\text{иначе}\n",
        "\\end{cases}\n",
        "$$"
      ],
      "metadata": {
        "id": "leD0Z5baWh6C"
      }
    },
    {
      "cell_type": "code",
      "source": [
        "def handle_missing_values(X: 'Matrix') -> 'Matrix':\n",
        "    \"\"\"\n",
        "    Вход: матрица данных X (n×m) с возможными NaN\n",
        "    Выход: матрица данных X_filled (n×m) без NaN\n",
        "    \"\"\"\n",
        "    n, m = X.rows, X.cols\n",
        "\n",
        "    col_means = [0.0] * m\n",
        "    for j in range(m):\n",
        "        count = 0\n",
        "        summ = 0.0\n",
        "        for i in range(n):\n",
        "            val = X[i, j]\n",
        "            if not math.isnan(val):\n",
        "                summ += val\n",
        "                count += 1\n",
        "\n",
        "        if count == 0:\n",
        "            col_means[j] = 0.0\n",
        "        else:\n",
        "            col_means[j] = summ / count\n",
        "\n",
        "    X_filled = X.copy()\n",
        "    for i in range(n):\n",
        "        for j in range(m):\n",
        "            val = X_filled[i,j]\n",
        "            if math.isnan(val):\n",
        "                X_filled.set(i, j, col_means[j])\n",
        "\n",
        "    return X_filled"
      ],
      "metadata": {
        "id": "hps80waV_Pnc"
      },
      "execution_count": 435,
      "outputs": []
    },
    {
      "cell_type": "markdown",
      "source": [
        "### 3.1 Задание (Hard): Реализовать полный алгоритм PCA"
      ],
      "metadata": {
        "id": "jJ7RyEAJSdhD"
      }
    },
    {
      "cell_type": "markdown",
      "source": [
        "Метод главных компонент (PCA) — это техника снижения размерности, которая находит новые оси, максимально объясняющие дисперсию данных. Алгоритм включает следующие шаги:\n",
        "\n",
        "  1.\tЦентрирование данных: вычитаем среднее значение для каждого признака.\n",
        "  2.\tВычисление ковариационной матрицы: оцениваем взаимосвязь между признаками.\n",
        "  3.\tНахождение собственных значений и векторов: собственные векторы — это главные компоненты, а собственные значения показывают важность этих компонентов.\n",
        "  4.\tПроекция данных: проецируем данные на первые k главных компонент, уменьшая размерность, сохраняя основную информацию.\n",
        "\n",
        "Алгоритм PCA позволяет эффективно уменьшать размерность, сохраняя основную информацию, что полезно для визуализации данных или обучения моделей."
      ],
      "metadata": {
        "id": "ptIBtvw7VBkC"
      }
    },
    {
      "cell_type": "code",
      "source": [
        "def pca(X: 'Matrix', k: int = None, threshold: float = 0.95) -> Tuple[Matrix, float, int, Matrix, List[float]]:\n",
        "    \"\"\"\n",
        "    Вход:\n",
        "      X: матрица данных (n×m)\n",
        "      k: число главных компонент\n",
        "    Выход:\n",
        "      X_proj: проекция данных (n×k)\n",
        "      : доля объяснённой дисперсии\n",
        "    \"\"\"\n",
        "    # 0) удаление Nan\n",
        "    X = handle_missing_values(X)\n",
        "    # 1) Центрируем\n",
        "    X_centered = center_data(X)\n",
        "    n, m = X_centered.rows, X_centered.cols\n",
        "\n",
        "    # 2) Ковариационная матрица (m×m)\n",
        "    C = covariance_matrix(X_centered)\n",
        "\n",
        "    # 3) Находим eigenvals, eigenvecs\n",
        "    eigenvals = find_eigenvalues(C, tol=1e-6)\n",
        "    eigenvecs = find_eigenvectors(C, eigenvals)\n",
        "\n",
        "    # 4) Сортируем по убыванию\n",
        "    combined = list(zip(eigenvals, eigenvecs))\n",
        "    combined.sort(key=lambda x: x[0], reverse=True)\n",
        "    sorted_evals = [pair[0] for pair in combined]\n",
        "    sorted_evecs = [pair[1] for pair in combined]\n",
        "\n",
        "    # 5) Если k не задан, выбираем auto_select_k\n",
        "    if k is None:\n",
        "        k = auto_select_k(sorted_evals, threshold)\n",
        "    if k <= 0 or k > m:\n",
        "        raise ValueError(f\"Некорректное k={k} (должно быть 1..{m}).\")\n",
        "\n",
        "    # 6) Формируем матрицу W (m×k), столбцы - первые k eigenvecs\n",
        "    W_data = []\n",
        "    for i in range(m):\n",
        "        row_i = []\n",
        "        for comp_idx in range(k):\n",
        "            row_i.append(sorted_evecs[comp_idx][i, 0])\n",
        "        W_data.append(row_i)\n",
        "    W = Matrix(W_data)  # (m×k)\n",
        "\n",
        "    X_proj = X_centered @ W\n",
        "\n",
        "    # 7) Доля объяснённой дисперсии\n",
        "    total = sum(sorted_evals)\n",
        "    chosen = sum(sorted_evals[:k])\n",
        "    gamma = chosen / total if abs(total) > 1e-14 else 1.0\n",
        "\n",
        "    means = [sum(X.col(i)) / n for i in range(m)]\n",
        "\n",
        "    return X_proj, gamma, k, W, means"
      ],
      "metadata": {
        "id": "bhvI8qWa7OD_"
      },
      "execution_count": 436,
      "outputs": []
    },
    {
      "cell_type": "markdown",
      "source": [
        "### 3.2 Задание (Hard): Визуализировать проекцию данных на первые две главные компоненты."
      ],
      "metadata": {
        "id": "I0amzQg1SnHA"
      }
    },
    {
      "cell_type": "code",
      "source": [
        "def plot_pca_projection(X_proj: 'Matrix') -> Figure:\n",
        "    \"\"\"\n",
        "    Вход: проекция данных X_proj (n×2)\n",
        "    Выход: объект Figure из Matplotlib\n",
        "    \"\"\"\n",
        "    if X_proj.cols != 2:\n",
        "        raise ValueError(f\"Матрица X_proj должна быть (n×2), а не (n×{X_proj.cols})\")\n",
        "\n",
        "    n = X_proj.rows\n",
        "\n",
        "    x_vals = [X_proj[i, 0] for i in range(n)]\n",
        "    y_vals = [X_proj[i, 1] for i in range(n)]\n",
        "\n",
        "    fig, ax = plt.subplots(figsize=(6, 6))\n",
        "    ax.scatter(x_vals, y_vals, c='blue', alpha=0.7, edgecolors='none')\n",
        "\n",
        "    ax.set_xlabel(\"PC1\")\n",
        "    ax.set_ylabel(\"PC2\")\n",
        "    ax.set_title(\"Projection onto first two principal components\")\n",
        "\n",
        "    return fig"
      ],
      "metadata": {
        "id": "ClgMOz8H8-OO"
      },
      "execution_count": 437,
      "outputs": []
    },
    {
      "cell_type": "markdown",
      "source": [
        "### 3.3. Задание (Hard): Вычислить среднеквадратическую ошибку восстановления данных:"
      ],
      "metadata": {
        "id": "fpCmiRtMSqum"
      }
    },
    {
      "cell_type": "markdown",
      "source": [
        "$$\n",
        "\\text{MSE} = \\frac{1}{n \\cdot m} \\sum_{i,j} (X_{\\text{orig}} - X_{\\text{recon}})^2.\n",
        "$$"
      ],
      "metadata": {
        "id": "DsmRMg4zWYjU"
      }
    },
    {
      "cell_type": "code",
      "source": [
        "def reconstruction_error(X_orig: 'Matrix', X_recon: 'Matrix') -> float:\n",
        "    \"\"\"\n",
        "    Вход:\n",
        "      X_orig: исходные данные (n×m)\n",
        "      X_recon: восстановленные данные (n×m)\n",
        "    Выход: среднеквадратическая ошибка MSE\n",
        "    \"\"\"\n",
        "    n, m = X_orig.rows, X_orig.cols\n",
        "\n",
        "    if X_recon.rows != n or X_recon.cols != m:\n",
        "        raise ValueError(f\"Размеры X_recon ({X_recon.rows}×{X_recon.cols}) \"\n",
        "                         f\"не совпадают с X_orig ({n}×{m}).\")\n",
        "\n",
        "    sse = 0.0\n",
        "    for i in range(n):\n",
        "        for j in range(m):\n",
        "            diff = X_orig[i, j] - X_recon[i, j]\n",
        "            sse += diff * diff\n",
        "\n",
        "    mse = sse / (n * m)\n",
        "    return mse"
      ],
      "metadata": {
        "id": "7gXv2vQC9sll"
      },
      "execution_count": 438,
      "outputs": []
    },
    {
      "cell_type": "markdown",
      "source": [
        "# Тестирование и применение в реальных условиях"
      ],
      "metadata": {
        "id": "GY5fvYqnSz0n"
      }
    },
    {
      "cell_type": "markdown",
      "source": [
        "## Тестирование функций"
      ],
      "metadata": {
        "id": "uZCTomdOTJe6"
      }
    },
    {
      "cell_type": "markdown",
      "source": [
        "Тестирование метода Гаусса для решения СЛАУ"
      ],
      "metadata": {
        "id": "PXolwAgLNPgR"
      }
    },
    {
      "cell_type": "code",
      "source": [
        "def test_gauss_solver():\n",
        "    # Тест 1: Простая система\n",
        "    A1 = Matrix([[2, 1], [1, -1]])\n",
        "    b1 = Matrix([[5], [1]])\n",
        "    result1 = gauss_solver(A1, b1)[0]\n",
        "    print(f\"Тест 1 (A1): найдено решение x1 = {result1[0, 0]}, x2 = {result1[1, 0]}\")\n",
        "    assert abs(result1[0, 0] - 2.0) < 1e-6, \"Тест 1: Ошибка в x1\"\n",
        "    assert abs(result1[1, 0] - 1.0) < 1e-6, \"Тест 1: Ошибка в x2\"\n",
        "\n",
        "    # Тест 2: Несовместная система\n",
        "    A2 = Matrix([[1, 1], [0, 0]])\n",
        "    b2 = Matrix([[2], [1]])\n",
        "    try:\n",
        "        gauss_solver(A2, b2)\n",
        "        assert False, \"Тест 2: Ожидалась ошибка ValueError\"\n",
        "    except ValueError:\n",
        "        print(\"Тест 2 прошел успешно: система несовместна\")\n",
        "        pass  # Тест пройден\n",
        "\n",
        "    # Тест 3: Проверка решения\n",
        "    A3 = Matrix([[1, 2], [2, 4]])\n",
        "    b3 = Matrix([[3], [6]])\n",
        "    result3 = gauss_solver(A3, b3)\n",
        "    # Проверка, что решение удовлетворяет уравнению\n",
        "    x1 = result3[0][0, 0]\n",
        "    x2 = result3[0][1, 0]\n",
        "    print(f\"Тест 3 (A3): найдено решение x1 = {x1}, x2 = {x2}\")\n",
        "    assert abs(x1 + 2 * x2 - 3) < 1e-6, \"Тест 3: Решение не удовлетворяет уравнению\"\n",
        "\n",
        "    print(\"Все тесты пройдены успешно!\")"
      ],
      "metadata": {
        "id": "OCwxRdhQNp8_"
      },
      "execution_count": 439,
      "outputs": []
    },
    {
      "cell_type": "code",
      "source": [
        "test_gauss_solver()"
      ],
      "metadata": {
        "id": "NqQ45neMRAcB",
        "colab": {
          "base_uri": "https://localhost:8080/"
        },
        "outputId": "8cc5513e-39e7-4f2a-cadf-54d07bc10407"
      },
      "execution_count": 440,
      "outputs": [
        {
          "output_type": "stream",
          "name": "stdout",
          "text": [
            "Тест 1 (A1): найдено решение x1 = 2.0, x2 = 1.0\n",
            "Тест 2 прошел успешно: система несовместна\n",
            "Тест 3 (A3): найдено решение x1 = 3.0, x2 = 0.0\n",
            "Все тесты пройдены успешно!\n"
          ]
        }
      ]
    },
    {
      "cell_type": "markdown",
      "source": [
        "Тестирование центрирования данных"
      ],
      "metadata": {
        "id": "5IQdHxKsNs4-"
      }
    },
    {
      "cell_type": "code",
      "source": [
        "def test_center_data():\n",
        "    X = Matrix([\n",
        "        [1, 2, 3],\n",
        "        [4, 5, 6],\n",
        "        [7, 8, 9]\n",
        "    ])\n",
        "    X_centered = center_data(X)\n",
        "\n",
        "    # Проверяем, что средние столбцов близки к нулю\n",
        "    for j in range(X.cols):\n",
        "        col_mean = sum(X_centered.col(j)) / X.rows\n",
        "        print(f\"Среднее для столбца {j}: {col_mean}\")\n",
        "        assert abs(col_mean) < 1e-10, f\"Столбец {j} не центрирован\"\n",
        "\n",
        "    print(\"Все тесты пройдены\")"
      ],
      "metadata": {
        "id": "xvDbc1mMNuVl"
      },
      "execution_count": 441,
      "outputs": []
    },
    {
      "cell_type": "code",
      "source": [
        "test_center_data()"
      ],
      "metadata": {
        "id": "Xuk-UknvRBMX",
        "colab": {
          "base_uri": "https://localhost:8080/"
        },
        "outputId": "a26f58dc-52b2-42a9-a863-f0716e2e29ae"
      },
      "execution_count": 442,
      "outputs": [
        {
          "output_type": "stream",
          "name": "stdout",
          "text": [
            "Среднее для столбца 0: 0.0\n",
            "Среднее для столбца 1: 0.0\n",
            "Среднее для столбца 2: 0.0\n",
            "Все тесты пройдены\n"
          ]
        }
      ]
    },
    {
      "cell_type": "markdown",
      "source": [
        "Тестирование вычисления матрицы ковариаций"
      ],
      "metadata": {
        "id": "vqxfz3axNv-w"
      }
    },
    {
      "cell_type": "code",
      "source": [
        "def test_covariance_matrix():\n",
        "    X_centered = Matrix([\n",
        "        [1, -1, 4],\n",
        "        [-3, 2, 0],\n",
        "        [2, 0, -1]\n",
        "    ])\n",
        "    C = covariance_matrix(X_centered)\n",
        "\n",
        "    # Правильные ожидаемые значения после пересчета\n",
        "    expected_data = [\n",
        "        [7.0, -3.5, 1.0],\n",
        "        [-3.5, 2.5, -2.0],\n",
        "        [1.0, -2.0, 8.5]\n",
        "    ]\n",
        "    expected = Matrix(expected_data)\n",
        "\n",
        "    for i in range(C.rows):\n",
        "        for j in range(C.cols):\n",
        "            diff = abs(C[i, j] - expected[i, j])\n",
        "            print(f\"Элемент ({i}, {j}) - Рассчитано: {C[i, j]}, Ожидаемое: {expected[i, j]}, Разница: {diff}\")\n",
        "            assert diff < 1e-6, f\"Ошибка в элементе ({i}, {j})\"\n",
        "\n",
        "    print(\"Все тесты пройдены\")"
      ],
      "metadata": {
        "id": "Bds-FLDhNxSr"
      },
      "execution_count": 443,
      "outputs": []
    },
    {
      "cell_type": "code",
      "source": [
        "test_covariance_matrix()"
      ],
      "metadata": {
        "id": "YOAOn5rzRJpz",
        "colab": {
          "base_uri": "https://localhost:8080/"
        },
        "outputId": "16bd156e-db78-4594-f0e6-b22b1d377c1b"
      },
      "execution_count": 444,
      "outputs": [
        {
          "output_type": "stream",
          "name": "stdout",
          "text": [
            "Элемент (0, 0) - Рассчитано: 7.0, Ожидаемое: 7.0, Разница: 0.0\n",
            "Элемент (0, 1) - Рассчитано: -3.5, Ожидаемое: -3.5, Разница: 0.0\n",
            "Элемент (0, 2) - Рассчитано: 1.0, Ожидаемое: 1.0, Разница: 0.0\n",
            "Элемент (1, 0) - Рассчитано: -3.5, Ожидаемое: -3.5, Разница: 0.0\n",
            "Элемент (1, 1) - Рассчитано: 2.5, Ожидаемое: 2.5, Разница: 0.0\n",
            "Элемент (1, 2) - Рассчитано: -2.0, Ожидаемое: -2.0, Разница: 0.0\n",
            "Элемент (2, 0) - Рассчитано: 1.0, Ожидаемое: 1.0, Разница: 0.0\n",
            "Элемент (2, 1) - Рассчитано: -2.0, Ожидаемое: -2.0, Разница: 0.0\n",
            "Элемент (2, 2) - Рассчитано: 8.5, Ожидаемое: 8.5, Разница: 0.0\n",
            "Все тесты пройдены\n"
          ]
        }
      ]
    },
    {
      "cell_type": "markdown",
      "source": [
        "Тестирование поиска собственных значений и векторов"
      ],
      "metadata": {
        "id": "MFVEZsOxNzrl"
      }
    },
    {
      "cell_type": "code",
      "source": [
        "def test_eigen():\n",
        "    # Тест 1\n",
        "    # Простая 2×2 матрица [[2, 1],[1, 2]],\n",
        "    # собственные значения 1 и 3\n",
        "    C1 = Matrix([[2, 1],\n",
        "                 [1, 2]])\n",
        "    expected1 = [1.0, 3.0]\n",
        "    result1 = find_eigenvalues(C1, tol=1e-6)\n",
        "    result1_sorted = sorted(result1)\n",
        "    print(\"Тест 1 (C1): найденные значения =\", result1_sorted)\n",
        "    assert len(result1_sorted) == 2, \"Ожидаем 2 собственных значения\"\n",
        "    for i in range(2):\n",
        "        assert abs(result1_sorted[i] - expected1[i]) < 1e-6, \\\n",
        "            f\"Тест 1 провален. Получено: {result1_sorted}, ожидалось: {expected1}\"\n",
        "\n",
        "    # Тест 2\n",
        "    # Диагональная 2×2 матрица [[3, 0],[0, 5]] => собственные значения 3 и 5\n",
        "    C2 = Matrix([[3, 0],\n",
        "                 [0, 5]])\n",
        "    expected2 = [3.0, 5.0]\n",
        "    result2 = find_eigenvalues(C2, tol=1e-6)\n",
        "    result2_sorted = sorted(result2)\n",
        "    print(\"Тест 2 (C2): найденные значения =\", result2_sorted)\n",
        "    assert len(result2_sorted) == 2, \"Ожидаем 2 собственных значения\"\n",
        "    for i in range(2):\n",
        "        assert abs(result2_sorted[i] - expected2[i]) < 1e-6, \\\n",
        "            f\"Тест 2 провален. Получено: {result2_sorted}, ожидалось: {expected2}\"\n",
        "\n",
        "    # Тест 3\n",
        "    # Симметричная 3×3 матрица, чьи собственные значения известны точно:\n",
        "    # Пусть возьмём блок-диагональную форму (или близкую к ней),\n",
        "    #   [[1, 2, 0],\n",
        "    #    [2, 5, 0],\n",
        "    #    [0, 0, 2]]\n",
        "    # Собственные значения: 1, 5 (для 2×2 блока) и 2 (для последней строчки).\n",
        "    C3 = Matrix([\n",
        "        [1, 2, 0],\n",
        "        [2, 5, 0],\n",
        "        [0, 0, 2]\n",
        "    ])\n",
        "    expected3 = [-2*2**0.5 + 3, 2.0, 2*2**0.5 + 3]\n",
        "    result3 = find_eigenvalues(C3, tol=1e-6)\n",
        "    result3_sorted = sorted(result3)\n",
        "    print(\"Тест 3 (C3): найденные значения =\", result3_sorted)\n",
        "    assert len(result3_sorted) == 3, \"Ожидаем 3 собственных значения\"\n",
        "    for i in range(3):\n",
        "        assert abs(result3_sorted[i] - expected3[i]) < 1e-6, \\\n",
        "            f\"Тест 3 провален. Получено: {result3_sorted}, ожидалось: {expected3}\"\n",
        "\n",
        "    # Тест 4: проверка собственных векторов\n",
        "    # Возьмём другую 3×3 симметричную матрицу (не обязательно иметь простые корни),\n",
        "    # просто проверим, что (C4 @ v_i) ≈ (lambda_i) * v_i\n",
        "    C4 = Matrix([\n",
        "        [4, 2, 2],\n",
        "        [2, 5, 3],\n",
        "        [2, 3, 6]\n",
        "    ])\n",
        "    # Находим значения\n",
        "    eigenvals_4 = find_eigenvalues(C4, tol=1e-6)\n",
        "    # Находим векторы\n",
        "    eigenvecs_4 = find_eigenvectors(C4, eigenvals_4)\n",
        "    print(\"Тест 4 (C4): найденные значения =\", sorted(eigenvals_4))\n",
        "    print(\"Проверяем (C4 @ v) ~ λ * v...\")\n",
        "    # Проверим, что для каждого i:\n",
        "    #   C4 * eigenvecs_4[i] ≈ eigenvals_4[i] * eigenvecs_4[i]\n",
        "    for i, lam in enumerate(eigenvals_4):\n",
        "        vec = eigenvecs_4[i]   # Матрица (3×1)\n",
        "        Cv = C4 @ vec          # тоже (3×1)\n",
        "        lambda_v = vec * lam   # скалярно умножаем вектор\n",
        "        for row_i in range(vec.rows):\n",
        "            diff = abs(Cv[row_i, 0] - lambda_v[row_i, 0])\n",
        "            assert diff < 1e-3, f\"Тест 4: Вектор {i}, строка {row_i} не удовлетворяет C4*v = λ*v (расхождение {diff})\"\n",
        "\n",
        "    # Тест 5\n",
        "    C5 = Matrix([[4, 1],\n",
        "                 [1, 3]])\n",
        "    vals5 = find_eigenvalues(C5, tol=1e-6)\n",
        "    vecs5 = find_eigenvectors(C5, vals5)\n",
        "    print(\"Test 5 (C5) eigenvalues:\", sorted(vals5))\n",
        "    print(\"  Eigenvectors for C5:\")\n",
        "    for lam, v in zip(vals5, vecs5):\n",
        "        print(f\"    λ={lam:.6f}, v={v.data}\")\n",
        "        Cv = C5 @ v\n",
        "        lam_v = v * lam\n",
        "        for i in range(v.rows):\n",
        "            assert abs(Cv[i,0] - lam_v[i,0]) < 1e-3\n",
        "\n",
        "    print(\"Все тесты пройдены успешно!\")"
      ],
      "metadata": {
        "id": "PViiX3SMN3Gk"
      },
      "execution_count": 445,
      "outputs": []
    },
    {
      "cell_type": "code",
      "source": [
        "test_eigen()"
      ],
      "metadata": {
        "id": "cLsafhVGRN5Y",
        "colab": {
          "base_uri": "https://localhost:8080/"
        },
        "outputId": "fbeeca1f-bb51-43c2-edff-1b19574feb26"
      },
      "execution_count": 446,
      "outputs": [
        {
          "output_type": "stream",
          "name": "stdout",
          "text": [
            "Тест 1 (C1): найденные значения = [0.9999999765625001, 3.000000499999945]\n",
            "Тест 2 (C2): найденные значения = [2.9999999765625, 5.000000000000112]\n",
            "Тест 3 (C3): найденные значения = [0.17157224218750108, 1.9999999765623917, 5.828427710937781]\n",
            "Тест 4 (C4): найденные значения = [2.322503882812356, 2.785824195312305, 9.891671851562457]\n",
            "Проверяем (C4 @ v) ~ λ * v...\n",
            "Test 5 (C5) eigenvalues: [2.3819667734374583, 4.618033179687487]\n",
            "  Eigenvectors for C5:\n",
            "    λ=2.381967, v=[[-0.5257311121191336], [0.8506508083520399]]\n",
            "    λ=4.618033, v=[[0.85065080835204], [0.5257311121191337]]\n",
            "Все тесты пройдены успешно!\n"
          ]
        }
      ]
    },
    {
      "cell_type": "markdown",
      "source": [
        "Тестирование доли объяснённой дисперсии"
      ],
      "metadata": {
        "id": "rfCejTJtN4Ve"
      }
    },
    {
      "cell_type": "code",
      "source": [
        "def test_explained_variance_ratio():\n",
        "    # Тест 1: Два собственных значения, k=1\n",
        "    ev1 = [2, 1]\n",
        "    ratio1 = explained_variance_ratio(ev1, 1)\n",
        "    print(f\"Test 1: eigenvalues = {ev1}, k = 1, ratio = {ratio1}\")\n",
        "    assert abs(ratio1 - (2/3)) < 1e-6, f\"Test 1 failed: {ratio1}\"\n",
        "\n",
        "    # Тест 2: k=2 => (2+1)/(2+1) = 1.0\n",
        "    ratio2 = explained_variance_ratio(ev1, 2)\n",
        "    print(f\"Test 2: eigenvalues = {ev1}, k = 2, ratio = {ratio2}\")\n",
        "    assert abs(ratio2 - 1.0) < 1e-9, f\"Test 2 failed: {ratio2}\"\n",
        "\n",
        "    # Тест 3: Диагональные собственные значения [3, 5], k=1 => 5/8\n",
        "    ev2 = [3, 5]\n",
        "    ratio3 = explained_variance_ratio(ev2, 1)\n",
        "    print(f\"Test 3: eigenvalues = {ev2}, k = 1, ratio = {ratio3}\")\n",
        "    assert abs(ratio3 - (5/8)) < 1e-9, f\"Test 3 failed: {ratio3}\"\n",
        "\n",
        "    # Тест 4: Три значения, k=2. Пусть eigenvalues = [1, 4, 2]\n",
        "    ev3 = [1, 4, 2]\n",
        "    ratio4 = explained_variance_ratio(ev3, 2)\n",
        "    print(f\"Test 4: eigenvalues = {ev3}, k = 2, ratio = {ratio4}\")\n",
        "    assert abs(ratio4 - (6/7)) < 1e-9, f\"Test 4 failed: {ratio4}\"\n",
        "\n",
        "    # Тест 5: Нулевые значения -> проверка на zero division\n",
        "    ev_zero = [0.0, 0.0]\n",
        "    try:\n",
        "        explained_variance_ratio(ev_zero, 1)\n",
        "        assert False, \"Test 5 failed: ожидалось исключение ValueError при сумме == 0\"\n",
        "    except ValueError:\n",
        "        print(\"Test 5: Ожидаемая ошибка ValueError при нулевых собственных значениях поймана\")\n",
        "\n",
        "    # Тест 6: k > len(eigenvalues)\n",
        "    try:\n",
        "        explained_variance_ratio([1,2,3], 4)\n",
        "        assert False, \"Test 6 failed: ожидалось исключение ValueError при k > m\"\n",
        "    except ValueError:\n",
        "        print(\"Test 6: Ожидаемая ошибка ValueError при k > m поймана\")\n",
        "\n",
        "    # Тест 7: k <= 0\n",
        "    try:\n",
        "        explained_variance_ratio([1,2,3], 0)\n",
        "        assert False, \"Test 7 failed: ожидалось исключение ValueError при k <= 0\"\n",
        "    except ValueError:\n",
        "        print(\"Test 7: Ожидаемая ошибка ValueError при k <= 0 поймана\")\n",
        "\n",
        "    print(\"Все тесты пройдены успешно!\")"
      ],
      "metadata": {
        "id": "jc3KdcwYN9Vr"
      },
      "execution_count": 447,
      "outputs": []
    },
    {
      "cell_type": "code",
      "source": [
        "test_explained_variance_ratio()"
      ],
      "metadata": {
        "id": "61Yuhik8RRQk",
        "colab": {
          "base_uri": "https://localhost:8080/"
        },
        "outputId": "ef20c895-dea8-4daa-fd7f-bbea16b817d7"
      },
      "execution_count": 448,
      "outputs": [
        {
          "output_type": "stream",
          "name": "stdout",
          "text": [
            "Test 1: eigenvalues = [2, 1], k = 1, ratio = 0.6666666666666666\n",
            "Test 2: eigenvalues = [2, 1], k = 2, ratio = 1.0\n",
            "Test 3: eigenvalues = [3, 5], k = 1, ratio = 0.625\n",
            "Test 4: eigenvalues = [1, 4, 2], k = 2, ratio = 0.8571428571428571\n",
            "Test 5: Ожидаемая ошибка ValueError при нулевых собственных значениях поймана\n",
            "Test 6: Ожидаемая ошибка ValueError при k > m поймана\n",
            "Test 7: Ожидаемая ошибка ValueError при k <= 0 поймана\n",
            "Все тесты пройдены успешно!\n"
          ]
        }
      ]
    },
    {
      "cell_type": "markdown",
      "source": [
        "Тестирование вычисления среднеквадратичной ошибки восстановления"
      ],
      "metadata": {
        "id": "6qlW6sn0OPuB"
      }
    },
    {
      "cell_type": "code",
      "source": [
        "def test_reconstruction_error():\n",
        "    X_orig_data = [\n",
        "        [2.0, 1.0],\n",
        "        [3.0, 1.5]\n",
        "    ]\n",
        "    X_recon_data = [\n",
        "        [1.8, 0.9],\n",
        "        [2.5, 1.4]\n",
        "    ]\n",
        "    X_orig = Matrix(X_orig_data)\n",
        "    X_recon = Matrix(X_recon_data)\n",
        "\n",
        "    # Ожидаем MSE = среднее от [(2-1.8)^2 + (1-0.9)^2 + (3-2.5)^2 + (1.5-1.4)^2]\n",
        "    # = [(0.2)^2 + (0.1)^2 + (0.5)^2 + (0.1)^2] / 4\n",
        "    # = [0.04 + 0.01 + 0.25 + 0.01] / 4 = 0.31 / 4 = 0.0775\n",
        "    expected_mse = 0.0775\n",
        "\n",
        "    try:\n",
        "        mse_val = reconstruction_error(X_orig, X_recon)\n",
        "        print(f\"Полученная MSE: {mse_val}\")\n",
        "        assert abs(mse_val - expected_mse) < 1e-8, f\"MSE={mse_val}, ожидалось {expected_mse}\"\n",
        "        print(\"reconstruction_error: OK\")\n",
        "    except Exception as e:\n",
        "        print(f\"reconstruction_error: FAILED. Ошибка: {e}\")"
      ],
      "metadata": {
        "id": "4wgQUz8eOPWZ"
      },
      "execution_count": 449,
      "outputs": []
    },
    {
      "cell_type": "code",
      "source": [
        "test_reconstruction_error()"
      ],
      "metadata": {
        "id": "w6S1bklnRex3",
        "colab": {
          "base_uri": "https://localhost:8080/"
        },
        "outputId": "08219db6-d471-419a-9dc8-35e889464a05"
      },
      "execution_count": 450,
      "outputs": [
        {
          "output_type": "stream",
          "name": "stdout",
          "text": [
            "Полученная MSE: 0.0775\n",
            "reconstruction_error: OK\n"
          ]
        }
      ]
    },
    {
      "cell_type": "markdown",
      "source": [
        "Tестирование функции автоматического выбора k (число главных компонент)"
      ],
      "metadata": {
        "id": "n_wvJKT0Q0kt"
      }
    },
    {
      "cell_type": "code",
      "source": [
        "def test_auto_select_k():\n",
        "    # Тест 1: собственные значения отсортированы\n",
        "    ev = [5.0, 3.0, 1.5, 0.5]  # sum=10\n",
        "    print(f\"Тест 1: eigenvalues = {ev}\")\n",
        "    # partial sums => 5(0.5), 8(0.8), 9.5(0.95), 10(1.0)\n",
        "    # при threshold=0.9 => k=3 (т.к. 0.8<0.9 <0.95)\n",
        "    k1 = auto_select_k(ev, threshold=0.9)\n",
        "    print(f\"Полученное значение k = {k1}\")\n",
        "    assert k1 == 3, f\"Ожидалось k=3, получено {k1}\"\n",
        "\n",
        "    # Тест 2: threshold=0.8 => k=2\n",
        "    k2 = auto_select_k(ev, threshold=0.8)\n",
        "    print(f\"Тест 2: threshold=0.8, полученное k = {k2}\")\n",
        "    assert k2 == 2, f\"Ожидалось k=2, получено {k2}\"\n",
        "\n",
        "    # Тест 3: threshold=0.99 => k=4\n",
        "    k3 = auto_select_k(ev, threshold=0.99)\n",
        "    print(f\"Тест 3: threshold=0.99, полученное k = {k3}\")\n",
        "    assert k3 == 4, f\"Ожидалось k=4, получено {k3}\"\n",
        "\n",
        "    # Тест 4: проверка пустого списка\n",
        "    print(\"Тест 4: проверка пустого списка\")\n",
        "    try:\n",
        "        auto_select_k([], 0.95)\n",
        "        assert False, \"Ожидалась ошибка ValueError при пустом списке eigenvalues\"\n",
        "    except ValueError:\n",
        "        pass\n",
        "\n",
        "    print(\"test_auto_select_k: OK\")"
      ],
      "metadata": {
        "id": "MuquQNSbQ6zY"
      },
      "execution_count": 451,
      "outputs": []
    },
    {
      "cell_type": "code",
      "source": [
        "test_auto_select_k()"
      ],
      "metadata": {
        "id": "DOChZdv8RUHc",
        "colab": {
          "base_uri": "https://localhost:8080/"
        },
        "outputId": "12bb033a-cd1f-49fb-d371-90ff4b53625c"
      },
      "execution_count": 452,
      "outputs": [
        {
          "output_type": "stream",
          "name": "stdout",
          "text": [
            "Тест 1: eigenvalues = [5.0, 3.0, 1.5, 0.5]\n",
            "Полученное значение k = 3\n",
            "Тест 2: threshold=0.8, полученное k = 2\n",
            "Тест 3: threshold=0.99, полученное k = 4\n",
            "Тест 4: проверка пустого списка\n",
            "test_auto_select_k: OK\n"
          ]
        }
      ]
    },
    {
      "cell_type": "markdown",
      "source": [
        "Тестирование авто-выбора k в PCA"
      ],
      "metadata": {
        "id": "9o7f6PLhN_3A"
      }
    },
    {
      "cell_type": "code",
      "source": [
        "def test_pca_auto_k():\n",
        "    # Допустим, матрица X (4 объекта x 3 признака) - маленькая\n",
        "    # Пока возьмём простую\n",
        "    X_data = [\n",
        "        [2.0, 1.0, 0.0],\n",
        "        [1.5, 2.2, 0.0],\n",
        "        [3.0, 4.0, 1.0],\n",
        "        [2.1, 2.5, 0.5]\n",
        "    ]\n",
        "    X_test = Matrix(X_data)\n",
        "\n",
        "    # Вызовем pca(...) без k => auto_select_k\n",
        "    X_proj, gamma, k_used, W, means = pca(X_test, k=None, threshold=0.9)\n",
        "    print(\"auto_select_k =>\", k_used, \"  explained variance =\", gamma)\n",
        "    # Проверим, что k_used <= 3 (число признаков)\n",
        "    assert 1 <= k_used <= 3, \"k_used вне диапазона [1..3]\"\n",
        "    # Проверим, что X_proj - размер (4×k_used)\n",
        "    assert X_proj.rows == 4 and X_proj.cols == k_used, \"Размеры X_proj неправильны\""
      ],
      "metadata": {
        "id": "Dxd8wEikOBK_"
      },
      "execution_count": 453,
      "outputs": []
    },
    {
      "cell_type": "code",
      "source": [
        "test_pca_auto_k()"
      ],
      "metadata": {
        "id": "UOC-EzmxRXDt",
        "colab": {
          "base_uri": "https://localhost:8080/"
        },
        "outputId": "20f2760e-988c-4935-b0a1-301e182e9128"
      },
      "execution_count": 454,
      "outputs": [
        {
          "output_type": "stream",
          "name": "stdout",
          "text": [
            "auto_select_k => 1   explained variance = 0.9174930023657074\n"
          ]
        }
      ]
    },
    {
      "cell_type": "markdown",
      "source": [
        "Тестирование обработки пропущенных значений"
      ],
      "metadata": {
        "id": "pTXeuFbsOfUW"
      }
    },
    {
      "cell_type": "code",
      "source": [
        "def test_handle_missing_values():\n",
        "    # Тест: 3×3 с несколькими NaN\n",
        "    data = [\n",
        "        [1.0,  2.0,  float('nan')],\n",
        "        [2.0,  float('nan'),  4.0],\n",
        "        [float('nan'),  2.0,  6.0]\n",
        "    ]\n",
        "    # Среднее по столбцу 0: (1.0+2.0)/2=1.5 (т.к. третье NaN)\n",
        "    # Среднее по столбцу 1: (2.0+2.0)/2=2.0\n",
        "    # Среднее по столбцу 2: (4.0+6.0)/2=5.0\n",
        "    # => заменяем:\n",
        "    # row0 col2 => 5.0\n",
        "    # row1 col1 => 2.0\n",
        "    # row2 col0 => 1.5\n",
        "    print(\"Исходные данные:\")\n",
        "    for row in data:\n",
        "        print(row)\n",
        "\n",
        "    X = Matrix(data)\n",
        "    X_filled = handle_missing_values(X)\n",
        "\n",
        "    print(\"-\" * 30)\n",
        "\n",
        "    print(\"Заполненные данные:\")\n",
        "    for i in range(X_filled.rows):\n",
        "        print(X_filled.row(i))\n",
        "\n",
        "    expected = [\n",
        "        [1.0,  2.0,  5.0],\n",
        "        [2.0,  2.0,  4.0],\n",
        "        [1.5,  2.0,  6.0]\n",
        "    ]\n",
        "    for i in range(3):\n",
        "        for j in range(3):\n",
        "            assert abs(X_filled[i, j] - expected[i][j])<1e-12, \\\n",
        "                f\"Ошибка в позиции ({i}, {j}): {X_filled[i, j]} != {expected[i][j]}\"\n",
        "\n",
        "    print(\"test_handle_missing_values: OK\")"
      ],
      "metadata": {
        "id": "SKCIJ1DIOe05"
      },
      "execution_count": 455,
      "outputs": []
    },
    {
      "cell_type": "code",
      "source": [
        "test_handle_missing_values()"
      ],
      "metadata": {
        "id": "u8p3qM-XRpLB",
        "colab": {
          "base_uri": "https://localhost:8080/"
        },
        "outputId": "6e07e18b-fdd4-4618-a767-c85dc0e68e7f"
      },
      "execution_count": 456,
      "outputs": [
        {
          "output_type": "stream",
          "name": "stdout",
          "text": [
            "Исходные данные:\n",
            "[1.0, 2.0, nan]\n",
            "[2.0, nan, 4.0]\n",
            "[nan, 2.0, 6.0]\n",
            "------------------------------\n",
            "Заполненные данные:\n",
            "[1.0, 2.0, 5.0]\n",
            "[2.0, 2.0, 4.0]\n",
            "[1.5, 2.0, 6.0]\n",
            "test_handle_missing_values: OK\n"
          ]
        }
      ]
    },
    {
      "cell_type": "markdown",
      "source": [
        "Тестирование визуализации"
      ],
      "metadata": {
        "id": "GM3KXC-HS835"
      }
    },
    {
      "cell_type": "code",
      "source": [
        "X_proj_data = [\n",
        "        [0.5, 1.0],\n",
        "        [1.5, 2.0],\n",
        "        [-0.2, 3.2]\n",
        "    ]\n",
        "X_proj = Matrix(X_proj_data)\n",
        "\n",
        "fig = plot_pca_projection(X_proj)\n",
        "plt.show()"
      ],
      "metadata": {
        "colab": {
          "base_uri": "https://localhost:8080/",
          "height": 564
        },
        "id": "DnpCEb959Fk9",
        "outputId": "4d049cfd-c492-4d17-f01a-3f11c0caf4d0"
      },
      "execution_count": 457,
      "outputs": [
        {
          "output_type": "display_data",
          "data": {
            "text/plain": [
              "<Figure size 600x600 with 1 Axes>"
            ],
            "image/png": "[encoded data removed]"
          },
          "metadata": {}
        }
      ]
    },
    {
      "cell_type": "markdown",
      "source": [
        "## Применение и иследование PCA"
      ],
      "metadata": {
        "id": "tq3Pfg7ETAuA"
      }
    },
    {
      "cell_type": "markdown",
      "source": [
        "### 4.3 Задание (Expert): Исследовать влияние шума на PCA:"
      ],
      "metadata": {
        "id": "gizuUeQlLdIQ"
      }
    },
    {
      "cell_type": "code",
      "source": [
        "import math, random\n",
        "\n",
        "def add_noise_and_compare(X: 'Matrix', noise_level: float = 0.1) -> None:\n",
        "    \"\"\"\n",
        "    Вход:\n",
        "      X: матрица данных (n×m)\n",
        "      noise_level: уровень шума (доля от стандартного отклонения)\n",
        "    Выход: результаты PCA до и после добавления шума.\n",
        "    В этом задании можете проявить творческие способности, поэтому выходные данные не типизированы\n",
        "    \"\"\"\n",
        "    n, m = X.rows, X.cols\n",
        "\n",
        "    # 1) Считаем PCA на исходных данных\n",
        "    X_proj_original, gamma_original, k_used_original, W, means = pca(X)\n",
        "\n",
        "    print(f\"[Before noise] k={k_used_original}, explained variance={gamma_original:.4f}\")\n",
        "\n",
        "    #   2) Добавляем шум\n",
        "    #   Для каждого столбца j найдём std_j (ст. откл.),\n",
        "    #   шум ~ N(0, std_j * noise_level)\n",
        "    means = [0.0]*m\n",
        "    for j in range(m):\n",
        "        col_sum = 0.0\n",
        "        for i in range(n):\n",
        "            col_sum += X[i, j]\n",
        "        means[j] = col_sum / n\n",
        "\n",
        "    stdevs = [0.0] * m\n",
        "    for j in range(m):\n",
        "        var_sum = 0.0\n",
        "        for i in range(n):\n",
        "            diff = X[i, j] - means[j]\n",
        "            var_sum += diff * diff\n",
        "        stdev = math.sqrt(var_sum/(n-1)) if n>1 else 0.0\n",
        "        stdevs[j] = stdev\n",
        "\n",
        "    X_noisy = X.copy()\n",
        "    for i in range(n):\n",
        "        for j in range(m):\n",
        "            noise = random.gauss(0.0, stdevs[j] * noise_level)\n",
        "            old_val = X_noisy[i, j]\n",
        "            X_noisy.set(i, j, old_val + noise)\n",
        "\n",
        "    # 3) Считаем PCA на зашумлённых данных\n",
        "    X_proj_noisy, gamma_noisy, k_used_noisy, W, means = pca(X_noisy)\n",
        "\n",
        "    print(f\"[After noise ] k={k_used_noisy}, explained variance={gamma_noisy:.4f}\")\n",
        "\n",
        "    diff_expl = gamma_noisy - gamma_original\n",
        "    print(f\"Difference in explained variance: {diff_expl:.4f}\")"
      ],
      "metadata": {
        "id": "rtHJ4jka9GX2"
      },
      "execution_count": 458,
      "outputs": []
    },
    {
      "cell_type": "code",
      "source": [
        "X_test = Matrix([\n",
        "        [1.0, 2.0, 3.0],\n",
        "        [1.5, 2.2, 2.9],\n",
        "        [2.0, 2.5, 3.2],\n",
        "        [4.0, 5.0, 6.0],\n",
        "        [4.1, 5.2, 5.8],\n",
        "        [4.2, 5.2, 5.9],\n",
        "        [7.2, 8.2, 8.9],\n",
        "        [7.5, 8.1, 8.7],\n",
        "        [7.8, 8.3, 8.8],\n",
        "        [7.9, 8.2, 8.5],\n",
        "    ])\n",
        "\n",
        "add_noise_and_compare(X_test, noise_level=0.2)"
      ],
      "metadata": {
        "colab": {
          "base_uri": "https://localhost:8080/"
        },
        "id": "FIAuBm3bA32a",
        "outputId": "746ede23-a743-4b95-ef87-ffa09a470423"
      },
      "execution_count": 459,
      "outputs": [
        {
          "output_type": "stream",
          "name": "stdout",
          "text": [
            "[Before noise] k=1, explained variance=0.9958\n",
            "[After noise ] k=1, explained variance=0.9791\n",
            "Difference in explained variance: -0.0167\n"
          ]
        }
      ]
    },
    {
      "cell_type": "markdown",
      "source": [
        "### Дополниительные функции для обучения модели"
      ],
      "metadata": {
        "id": "gvisKux5gwe4"
      }
    },
    {
      "cell_type": "code",
      "source": [
        "def separate_features_target(data_matrix: Matrix) -> Tuple[Matrix, Matrix]:\n",
        "    \"\"\"\n",
        "    Принимает матрицу, где последняя колонка считается целевой переменной\n",
        "    Возвращает пару (X, y):\n",
        "      - X: Matrix со всеми колонками, кроме последней\n",
        "      - y: Matrix с единственной колонкой (последняя колонка исходной матрицы)\n",
        "    \"\"\"\n",
        "    n, m = data_matrix.rows, data_matrix.cols\n",
        "    X_data = []\n",
        "    y_data = []\n",
        "    for i in range(n):\n",
        "        row = data_matrix.row(i)\n",
        "        X_data.append(row[:-1])\n",
        "        y_data.append([row[-1]])\n",
        "    return Matrix(X_data), Matrix(y_data)\n"
      ],
      "metadata": {
        "id": "nwf3TiAOrX__"
      },
      "execution_count": 460,
      "outputs": []
    },
    {
      "cell_type": "code",
      "source": [
        "def solve_system(A: Matrix, B: Matrix) -> List[float]:\n",
        "    sol = gauss_solver(A, B)\n",
        "    sol_vec = sol[0]\n",
        "    return [sol_vec[i, 0] for i in range(sol_vec.rows)]"
      ],
      "metadata": {
        "id": "gP8aNHyUrcQo"
      },
      "execution_count": 461,
      "outputs": []
    },
    {
      "cell_type": "code",
      "source": [
        "def transform_pca(X: Matrix, W: Matrix, means: List[float]) -> Matrix:\n",
        "    \"\"\"\n",
        "    Преобразует тестовые данные X по матрице W и средним значениям means,\n",
        "    используя ту же центрировку, что и обучающие данные\n",
        "    X_proj = (X - means) @ W\n",
        "    \"\"\"\n",
        "    n, m = X.rows, X.cols\n",
        "    # Центрируем X с использованием means из обучающей выборки\n",
        "    X_centered_data = []\n",
        "    for i in range(n):\n",
        "        row = []\n",
        "        for j in range(m):\n",
        "            row.append(X[i, j] - means[j])\n",
        "        X_centered_data.append(row)\n",
        "    X_centered = Matrix(X_centered_data)\n",
        "    return X_centered @ W\n"
      ],
      "metadata": {
        "id": "apPySjP7si6e"
      },
      "execution_count": 462,
      "outputs": []
    },
    {
      "cell_type": "code",
      "source": [
        "def add_intercept_column(X: Matrix) -> Matrix:\n",
        "    \"\"\"Добавляем столбец из 1 (интерсепт) слева: X' (n×(m+1))\"\"\"\n",
        "    n, m = X.rows, X.cols\n",
        "    new_data = []\n",
        "    for i in range(n):\n",
        "        row = [1.0]  # intercept\n",
        "        for j in range(m):\n",
        "            row.append(X[i, j])\n",
        "        new_data.append(row)\n",
        "    return Matrix(new_data)\n",
        "\n",
        "def train_linear_regression(X: Matrix, y: Matrix) -> Matrix:\n",
        "    \"\"\"\n",
        "    Решаем w = (X^T X)^(-1) X^T y  (Normal Equation)\n",
        "    X: (n×m), y: (n×1)\n",
        "    Возвращаем w: (m×1)\n",
        "    \"\"\"\n",
        "    # Добавим столбец 1\n",
        "    X_aug = add_intercept_column(X)\n",
        "\n",
        "    # w = (X^T X)^(-1) X^T y\n",
        "    XT = X_aug.transpose()\n",
        "    A = XT @ X_aug\n",
        "    B = XT @ y\n",
        "\n",
        "    w_vec = solve_system(A, B)\n",
        "\n",
        "    w_mat = Matrix([[val] for val in w_vec])\n",
        "    return w_mat\n",
        "\n",
        "def predict_linear_regression(X: Matrix, w: Matrix) -> Matrix:\n",
        "    \"\"\"\n",
        "    Предсказывает y = X_aug @ w\n",
        "    X: (n×m), w: ((m+1)×1)\n",
        "    Возвращает y_pred: (n×1)\n",
        "    \"\"\"\n",
        "    X_aug = add_intercept_column(X)\n",
        "    y_pred = X_aug @ w # (n×1)\n",
        "    return y_pred\n",
        "\n",
        "def mse(y_true: Matrix, y_pred: Matrix) -> float:\n",
        "    \"\"\"\n",
        "    Среднеквадратичная ошибка\n",
        "    y_true, y_pred: (n×1)\n",
        "    \"\"\"\n",
        "    n = y_true.rows\n",
        "    sse = 0.0\n",
        "    for i in range(n):\n",
        "        diff = y_true[i, 0] - y_pred[i, 0]\n",
        "        sse += diff * diff\n",
        "\n",
        "    return sse / n"
      ],
      "metadata": {
        "id": "lh1m6OaHBvyY"
      },
      "execution_count": 463,
      "outputs": []
    },
    {
      "cell_type": "markdown",
      "source": [
        "### 4.4. Задание (Expert): Применить PCA к реальному датасету"
      ],
      "metadata": {
        "id": "Hxtg7zq5MqZU"
      }
    },
    {
      "cell_type": "markdown",
      "source": [
        "Считывания датасета"
      ],
      "metadata": {
        "id": "EF8UoCm6TSEj"
      }
    },
    {
      "cell_type": "code",
      "source": [
        "def load_iris_csv(file_path: str) -> 'Matrix':\n",
        "    \"\"\"Считывает датасет Iris из CSV‑файла и возвращает экземпляр класса Matrix\"\"\"\n",
        "    species_map = {\n",
        "        \"Iris-setosa\": 1,\n",
        "        \"Iris-versicolor\": 2,\n",
        "        \"Iris-virginica\": 3\n",
        "    }\n",
        "    data = []\n",
        "    with open(file_path, \"r\", encoding=\"utf-8\") as csvfile:\n",
        "        reader = csv.reader(csvfile)\n",
        "        header = next(reader)\n",
        "        for row in reader:\n",
        "            if len(row) < 6:\n",
        "                continue\n",
        "            try:\n",
        "                # Преобразуем столбцы в нужные типы\n",
        "                id_val = int(row[0].strip())\n",
        "                sepal_length = float(row[1].strip())\n",
        "                sepal_width = float(row[2].strip())\n",
        "                petal_length = float(row[3].strip())\n",
        "                petal_width = float(row[4].strip())\n",
        "                species_label = species_map.get(row[5].strip())\n",
        "                if species_label is None:\n",
        "                    continue\n",
        "\n",
        "                data.append([id_val, sepal_length, sepal_width, petal_length, petal_width, species_label])\n",
        "            except Exception:\n",
        "                continue\n",
        "\n",
        "    return Matrix(data)"
      ],
      "metadata": {
        "id": "OmUsRJmiA-jp"
      },
      "execution_count": 464,
      "outputs": []
    },
    {
      "cell_type": "markdown",
      "source": [
        "Применение Логистической регрессии вместе с PCA"
      ],
      "metadata": {
        "id": "RMkkxigef2ux"
      }
    },
    {
      "cell_type": "markdown",
      "source": [
        "Применение PCA к датасету"
      ],
      "metadata": {
        "id": "jrrO1XFvTUkF"
      }
    },
    {
      "cell_type": "code",
      "source": [
        "def apply_pca_to_dataset(dataset_name: str, k: int) -> Tuple['Matrix', float]:\n",
        "    \"\"\"\n",
        "    Вход:\n",
        "      dataset_name: название датасета\n",
        "      k: число главных компонент\n",
        "    Выход: кортеж (проекция данных, качество модели)\n",
        "    \"\"\"\n",
        "    # Загружаем датасет\n",
        "    X = load_iris_csv(dataset_name)\n",
        "\n",
        "    # Разделяем данные на X и y\n",
        "    X_data, y_data = separate_features_target(X)\n",
        "\n",
        "    # Сохраняем исходные данные для сравнения\n",
        "    X_original = X_data.copy()\n",
        "\n",
        "    X_data_list = [X_data.row(i) for i in range(X_data.rows)]\n",
        "    y_data_list = [y_data.row(i) for i in range(y_data.rows)]\n",
        "\n",
        "    # Разделяем на обучающие и тестовые выборки\n",
        "    split_index = int(0.8 * len(X_data_list))\n",
        "    X_train = Matrix(X_data_list[:split_index])\n",
        "    X_test = Matrix(X_data_list[split_index:])\n",
        "    y_train = Matrix(y_data_list[:split_index])\n",
        "    y_test = Matrix(y_data_list[split_index:])\n",
        "\n",
        "\n",
        "    # Сравниваем метрики качества до и после PCA\n",
        "    # Без применения PCA\n",
        "    w_no_pca = train_linear_regression(X_train, y_train)\n",
        "    y_pred_test_no_pca = predict_linear_regression(X_test, w_no_pca)\n",
        "    no_pca_mse = mse(y_test, y_pred_test_no_pca)\n",
        "\n",
        "    # С применением PCA\n",
        "    X_train_pca, gamma, k_used, W, means_train = pca(X_train, k)\n",
        "    X_test_pca = transform_pca(X_test, W, means_train)\n",
        "\n",
        "    w_pca = train_linear_regression(X_train_pca, y_train)\n",
        "    y_pred_test_pca = predict_linear_regression(X_test_pca, w_pca)\n",
        "    pca_mse = mse(y_test, y_pred_test_pca)\n",
        "\n",
        "    X_proj = X_train_pca\n",
        "\n",
        "    # 7) Выводим результаты\n",
        "    print(f\"PCA на датасете '{dataset_name}':\")\n",
        "    print(f\"  Исходные размерности: {X.rows} объектов, {X.cols} признаков.\")\n",
        "    print(f\"  k_used={k_used}, доля объяснённой дисперсии={gamma:.4f}\")\n",
        "    print(f\"  Итоговая матрица X_proj: {X_proj.rows}х{X_proj.cols}.\")\n",
        "\n",
        "    print(\"Метрики качества:\")\n",
        "    print(f\"  MSE без PCA: {no_pca_mse:.4f}\")\n",
        "    print(f\"  MSE с PCA: {pca_mse:.4f}\")\n",
        "\n",
        "    return X_proj, gamma"
      ],
      "metadata": {
        "id": "GODmGuzFMnls"
      },
      "execution_count": 465,
      "outputs": []
    },
    {
      "cell_type": "markdown",
      "source": [
        "Тестирование времени поиска собственных значений"
      ],
      "metadata": {
        "id": "6bbWrGZXf7yr"
      }
    },
    {
      "cell_type": "code",
      "source": [
        "import time\n",
        "import matplotlib.pyplot as plt\n",
        "import random\n",
        "\n",
        "def generate_random_matrix(n: int) -> Matrix:\n",
        "    data = []\n",
        "    for i in range(n):\n",
        "        row = [random.random() for _ in range(n)]\n",
        "        data.append(row)\n",
        "    return Matrix(data)\n",
        "\n",
        "def test_complexity_find_eigen(max_n=50, step=10):\n",
        "    ns = []\n",
        "    times = []\n",
        "\n",
        "    for n in range(step, max_n+1, step):\n",
        "        M = generate_random_matrix(n)\n",
        "\n",
        "        start_time = time.time()\n",
        "        _ = find_eigenvalues(M)\n",
        "        end_time = time.time()\n",
        "\n",
        "        ns.append(n)\n",
        "        times.append(end_time - start_time)\n",
        "        print(f\"n={n}, time={times[-1]:.3f} s\")\n",
        "\n",
        "    # Строим график\n",
        "    plt.plot(ns, times, marker='o')\n",
        "    plt.xlabel('Matrix dimension n')\n",
        "    plt.ylabel('Time (s)')\n",
        "    plt.title('Time complexity of find_eigenvalues')\n",
        "    plt.grid(True)\n",
        "    plt.show()"
      ],
      "metadata": {
        "id": "QMZEhWg-F58c"
      },
      "execution_count": 466,
      "outputs": []
    },
    {
      "cell_type": "code",
      "source": [
        "test_complexity_find_eigen(max_n=25, step=5)"
      ],
      "metadata": {
        "colab": {
          "base_uri": "https://localhost:8080/",
          "height": 557
        },
        "id": "bnVcEfN1F7Yo",
        "outputId": "3a7b7543-d22f-49fc-cd1c-28e351023093"
      },
      "execution_count": 467,
      "outputs": [
        {
          "output_type": "stream",
          "name": "stdout",
          "text": [
            "n=5, time=0.290 s\n",
            "n=10, time=2.067 s\n",
            "n=15, time=8.397 s\n",
            "n=20, time=20.871 s\n",
            "n=25, time=49.841 s\n"
          ]
        },
        {
          "output_type": "display_data",
          "data": {
            "text/plain": [
              "<Figure size 640x480 with 1 Axes>"
            ],
            "image/png": "[encoded data removed]"
          },
          "metadata": {}
        }
      ]
    },
    {
      "cell_type": "code",
      "source": [
        "apply_pca_to_dataset('/content/Iris.csv', None)"
      ],
      "metadata": {
        "colab": {
          "base_uri": "https://localhost:8080/"
        },
        "id": "2hVzFNS9B9JK",
        "outputId": "c10f79ad-d481-4c0b-9cc5-fbcd4e0de091"
      },
      "execution_count": 468,
      "outputs": [
        {
          "output_type": "stream",
          "name": "stdout",
          "text": [
            "PCA на датасете '/content/Iris.csv':\n",
            "  Исходные размерности: 150 объектов, 6 признаков.\n",
            "  k_used=1, доля объяснённой дисперсии=0.9990\n",
            "  Итоговая матрица X_proj: 120х1.\n",
            "Метрики качества:\n",
            "  MSE без PCA: 0.0420\n",
            "  MSE с PCA: 0.0603\n"
          ]
        },
        {
          "output_type": "execute_result",
          "data": {
            "text/plain": [
              "(<__main__.Matrix at 0x78a22dc847d0>, 0.9989931772609826)"
            ]
          },
          "metadata": {},
          "execution_count": 468
        }
      ]
    },
    {
      "cell_type": "markdown",
      "source": [
        "# Выводы\n",
        "1.\tПреимущества PCA:\n",
        "    * Снижение размерности: Метод PCA позволяет эффективно снижать размерность данных, при этом сохраняя максимальную часть информации. Это достигается путем проекции данных на новые оси, которые соответствуют направлениям с наибольшей дисперсией.\n",
        "    * Уменьшение вычислительных затрат: При работе с высокоразмерными данными уменьшение размерности значительно ускоряет дальнейшую обработку и анализ данных.\n",
        "    * Улучшение визуализации: PCA полезен для визуализации данных в низкоразмерных пространствах (например, на 2D или 3D графиках), что позволяет исследователям и аналитикам лучше понять структуру данных.\n",
        "\n",
        "2.\tПрименение PCA:\n",
        "    * Анализ и уменьшение размерности реальных датасетов: PCA успешно применяется для анализа и уменьшения размерности реальных датасетов. В рамках лабораторной работы был использован классический датасет Iris, и PCA показал свою эффективность в визуализации данных.\n",
        "    * Гибкость метода: PCA может быть использован не только для уменьшения размерности, но и для других задач, таких как шумоподавление, улучшение качества данных и преодоление проблемы многократных зависимостей между признаками.\n",
        "\n",
        "В заключение, PCA является мощным и универсальным методом для обработки многомерных данных, улучшая производительность анализа и обеспечивая более глубокое понимание скрытых закономерностей в данных."
      ],
      "metadata": {
        "id": "Z12MIHLlj8l1"
      }
    }
  ]
}